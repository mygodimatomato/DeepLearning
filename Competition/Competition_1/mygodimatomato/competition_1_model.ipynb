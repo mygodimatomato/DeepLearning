{
 "cells": [
  {
   "cell_type": "code",
   "execution_count": 1,
   "metadata": {},
   "outputs": [],
   "source": [
    "import warnings\n",
    "warnings.filterwarnings('ignore')\n",
    "\n",
    "%matplotlib inline\n",
    "\n",
    "import pandas as pd\n",
    "import re \n",
    "\n",
    "import nltk\n",
    "from nltk.corpus import stopwords\n",
    "from nltk.stem.porter import PorterStemmer\n",
    "\n",
    "from sklearn.model_selection import train_test_split\n",
    "\n",
    "from bs4 import BeautifulSoup"
   ]
  },
  {
   "cell_type": "code",
   "execution_count": 2,
   "metadata": {},
   "outputs": [
    {
     "name": "stdout",
     "output_type": "stream",
     "text": [
      "   Popularity                                       Page content\n",
      "0           0  ['clara', 'moskowitz', 'space', 'com', 'utc', ...\n",
      "1           1  ['christina', 'warren2013', 'utcgoogl', 'new',...\n",
      "2           1  ['sam', 'laird2014', 'utcballin', 'nfl', 'draf...\n",
      "3           0  ['sam', 'laird2013', 'utccameraperson', 'fail'...\n",
      "4           0  ['connor', 'finnegan2014', 'utcnfl', 'star', '...\n"
     ]
    }
   ],
   "source": [
    "df = pd.read_csv('../datasets/train_processed.csv')\n",
    "print(df.head(5))"
   ]
  },
  {
   "cell_type": "code",
   "execution_count": 23,
   "metadata": {},
   "outputs": [
    {
     "name": "stdout",
     "output_type": "stream",
     "text": [
      "Accuracy: 0.78\n"
     ]
    }
   ],
   "source": [
    "test_dataset = pd.read_csv('../datasets/test_processed.csv') \n",
    "train_dataset = pd.read_csv('../datasets/train_processed.csv')\n",
    "\n",
    "# Split the training dataset into train and validation, which is 80% and 20% respectively\n",
    "X_train, X_val, y_train, y_val = train_test_split(train_dataset['review'], train_dataset['sentiment'], test_size=0.2, random_state=0)\n",
    "\n",
    "# Convert the text into tfidf vectors\n",
    "from sklearn.feature_extraction.text import TfidfVectorizer\n",
    "tfidf = TfidfVectorizer(strip_accents=None, lowercase=False, preprocessor=None)\n",
    "X_train_tfidf = tfidf.fit_transform(X_train)\n",
    "X_val_tfidf = tfidf.transform(X_val)\n",
    "X_test_tfidf = tfidf.transform(test_dataset['review'])\n",
    "\n",
    "# Use K-NN to classify the sentiment\n",
    "from sklearn.neighbors import KNeighborsClassifier\n",
    "from sklearn.metrics import accuracy_score\n",
    "\n",
    "knn = KNeighborsClassifier(n_neighbors=5, p=2, metric='minkowski')\n",
    "knn.fit(X_train_tfidf, y_train)\n",
    "y_pred = knn.predict(X_val_tfidf)\n",
    "\n"
   ]
  },
  {
   "cell_type": "code",
   "execution_count": 24,
   "metadata": {},
   "outputs": [],
   "source": [
    "from sklearn.metrics import roc_auc_score\n",
    "\n",
    "auc = roc_auc_score(y_val, y_pred)"
   ]
  },
  {
   "cell_type": "code",
   "execution_count": 25,
   "metadata": {},
   "outputs": [
    {
     "name": "stdout",
     "output_type": "stream",
     "text": [
      "AUC: 0.85\n"
     ]
    }
   ],
   "source": [
    "print('AUC: %.2f' % roc_auc)"
   ]
  },
  {
   "cell_type": "code",
   "execution_count": null,
   "metadata": {},
   "outputs": [],
   "source": []
  }
 ],
 "metadata": {
  "kernelspec": {
   "display_name": "Python 3",
   "language": "python",
   "name": "python3"
  },
  "language_info": {
   "codemirror_mode": {
    "name": "ipython",
    "version": 3
   },
   "file_extension": ".py",
   "mimetype": "text/x-python",
   "name": "python",
   "nbconvert_exporter": "python",
   "pygments_lexer": "ipython3",
   "version": "3.11.3"
  }
 },
 "nbformat": 4,
 "nbformat_minor": 2
}
