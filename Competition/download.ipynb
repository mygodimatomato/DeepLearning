{
 "cells": [
  {
   "cell_type": "code",
   "execution_count": 5,
   "metadata": {},
   "outputs": [
    {
     "name": "stderr",
     "output_type": "stream",
     "text": [
      "Downloading...\n",
      "From (uriginal): https://drive.google.com/uc?id=1gNyF81zkPTxDz5N5TNVfZqIhQs6M8M2j\n",
      "From (redirected): https://drive.google.com/uc?id=1gNyF81zkPTxDz5N5TNVfZqIhQs6M8M2j&confirm=t&uuid=bfc3b0aa-2cda-4d63-915b-3dbec017fa77\n",
      "To: /home/mygodimatomato/DeepLearning/Competition/Competition_2/aug_balance.zip\n",
      "100%|██████████| 2.49G/2.49G [00:25<00:00, 95.7MB/s]\n"
     ]
    },
    {
     "data": {
      "text/plain": [
       "'aug_balance.zip'"
      ]
     },
     "execution_count": 5,
     "metadata": {},
     "output_type": "execute_result"
    }
   ],
   "source": [
    "# use gdown download data from google drive\n",
    "# https://drive.google.com/file/d/1gZYF7efCZc10sbyuJ0NNXKimM8GLIfVv/view?usp=sharing\n",
    "# https://drive.google.com/file/d/1DmveWBIuRwhokg4b3Dp8lid1vk-3B6-G/view?usp=sharing\n",
    "# https://drive.google.com/file/d/1gNyF81zkPTxDz5N5TNVfZqIhQs6M8M2j/view?usp=sharing\n",
    "\n",
    "import gdown\n",
    "import os\n",
    "\n",
    "gdown.download('https://drive.google.com/uc?id=1gNyF81zkPTxDz5N5TNVfZqIhQs6M8M2j', quiet=False)"
   ]
  },
  {
   "cell_type": "code",
   "execution_count": null,
   "metadata": {},
   "outputs": [],
   "source": [
    "https://drive.google.com/file/d/1DmveWBIuRwhokg4b3Dp8lid1vk-3B6-G/view?usp=sharing"
   ]
  }
 ],
 "metadata": {
  "kernelspec": {
   "display_name": "for_tf",
   "language": "python",
   "name": "python3"
  },
  "language_info": {
   "codemirror_mode": {
    "name": "ipython",
    "version": 3
   },
   "file_extension": ".py",
   "mimetype": "text/x-python",
   "name": "python",
   "nbconvert_exporter": "python",
   "pygments_lexer": "ipython3",
   "version": "3.8.18"
  }
 },
 "nbformat": 4,
 "nbformat_minor": 2
}
