{
 "cells": [
  {
   "cell_type": "code",
   "execution_count": 1,
   "metadata": {},
   "outputs": [],
   "source": [
    "import warnings\n",
    "import os\n",
    "warnings.filterwarnings(\"ignore\")\n",
    "os.environ['TF_CPP_MIN_LOG_LEVEL'] = '2' \n",
    "\n",
    "import tensorflow as tf\n",
    "from tensorflow.keras import utils, datasets, layers, models\n",
    "import matplotlib.pyplot as plt\n",
    "import numpy as np\n",
    "\n",
    "import matplotlib as mpl\n",
    "import pickle\n",
    "import csv\n",
    "import itertools\n",
    "from collections import defaultdict\n",
    "import time\n",
    "import pandas as pd\n",
    "import math\n",
    "from tqdm import tqdm\n",
    "import dill"
   ]
  },
  {
   "cell_type": "code",
   "execution_count": 2,
   "metadata": {},
   "outputs": [
    {
     "name": "stdout",
     "output_type": "stream",
     "text": [
      "4 Physical GPUs, 1 Logical GPUs\n"
     ]
    }
   ],
   "source": [
    "gpus = tf.config.experimental.list_physical_devices('GPU')\n",
    "if gpus:\n",
    "    try:\n",
    "        # Currently, memory growth needs to be the same across GPUs\n",
    "        for gpu in gpus:\n",
    "            tf.config.experimental.set_memory_growth(gpu, True)\n",
    "        tf.config.experimental.set_visible_devices(gpus[1], 'GPU')\n",
    "        logical_gpus = tf.config.experimental.list_logical_devices('GPU')\n",
    "        print(len(gpus), \"Physical GPUs,\", len(logical_gpus), \"Logical GPUs\")\n",
    "    except RuntimeError as e:\n",
    "        # Memory growth must be set before GPUs have been initialized\n",
    "        print(e)"
   ]
  },
  {
   "cell_type": "code",
   "execution_count": 3,
   "metadata": {},
   "outputs": [],
   "source": [
    "import urllib.request\n",
    "if not os.path.exists(\"lab11_1_lib.py\"):\n",
    "    urllib.request.urlretrieve(\"https://nthu-datalab.github.io/ml/labs/11-1_CNN/lab11_1_lib.py\", \"lab11_1_lib.py\")\n",
    "\n",
    "from lab11_1_lib import draw_timeline"
   ]
  },
  {
   "cell_type": "code",
   "execution_count": 4,
   "metadata": {},
   "outputs": [
    {
     "name": "stdout",
     "output_type": "stream",
     "text": [
      "shape of train_image: (60000, 28, 28)\n",
      "shape of train_label: (60000,)\n"
     ]
    }
   ],
   "source": [
    "# Download and prepare the MNIST dataset\n",
    "(train_image, train_label), (test_image, test_label) = datasets.mnist.load_data()\n",
    "\n",
    "# Normalize pixel values to be between 0 and 1\n",
    "train_image, test_image = train_image / 255.0, test_image / 255.0\n",
    "print('shape of train_image:', train_image.shape)\n",
    "print('shape of train_label:', train_label.shape)"
   ]
  },
  {
   "cell_type": "code",
   "execution_count": 5,
   "metadata": {},
   "outputs": [
    {
     "name": "stdout",
     "output_type": "stream",
     "text": [
      "(60000, 784)\n",
      "(10000, 784)\n"
     ]
    }
   ],
   "source": [
    "# flating the training data for dense layers\n",
    "train_image_1 = train_image.reshape((60000, -1))\n",
    "test_image_1 = test_image.reshape((10000, -1))\n",
    "print(train_image_1.shape)\n",
    "print(test_image_1.shape)"
   ]
  },
  {
   "cell_type": "code",
   "execution_count": 6,
   "metadata": {},
   "outputs": [
    {
     "name": "stdout",
     "output_type": "stream",
     "text": [
      "Model: \"sequential\"\n",
      "_________________________________________________________________\n",
      "Layer (type)                 Output Shape              Param #   \n",
      "=================================================================\n",
      "dense (Dense)                (None, 10)                7850      \n",
      "=================================================================\n",
      "Total params: 7,850\n",
      "Trainable params: 7,850\n",
      "Non-trainable params: 0\n",
      "_________________________________________________________________\n"
     ]
    }
   ],
   "source": [
    "model_1 = models.Sequential()\n",
    "model_1.add(layers.Dense(10, activation='softmax',input_shape=(784,)))\n",
    "model_1.summary()"
   ]
  },
  {
   "cell_type": "code",
   "execution_count": 7,
   "metadata": {},
   "outputs": [
    {
     "name": "stdout",
     "output_type": "stream",
     "text": [
      "Epoch 1/5\n",
      "1875/1875 [==============================] - 5s 2ms/step - loss: 0.7286 - accuracy: 0.8112\n",
      "Epoch 2/5\n",
      "1875/1875 [==============================] - 4s 2ms/step - loss: 0.3160 - accuracy: 0.9123\n",
      "Epoch 3/5\n",
      "1875/1875 [==============================] - 4s 2ms/step - loss: 0.2864 - accuracy: 0.9202\n",
      "Epoch 4/5\n",
      "1875/1875 [==============================] - 4s 2ms/step - loss: 0.2710 - accuracy: 0.9234\n",
      "Epoch 5/5\n",
      "1875/1875 [==============================] - 4s 2ms/step - loss: 0.2629 - accuracy: 0.9272\n"
     ]
    },
    {
     "data": {
      "text/plain": [
       "<tensorflow.python.keras.callbacks.History at 0x14ab383926a0>"
      ]
     },
     "execution_count": 7,
     "metadata": {},
     "output_type": "execute_result"
    }
   ],
   "source": [
    "# compile the model and train it for 5 epochs\n",
    "model_1.compile(optimizer='adam',\n",
    "              loss='sparse_categorical_crossentropy',\n",
    "              metrics=['accuracy'])\n",
    "\n",
    "model_1.fit(train_image_1, train_label, epochs=5)"
   ]
  },
  {
   "cell_type": "code",
   "execution_count": 8,
   "metadata": {},
   "outputs": [
    {
     "name": "stdout",
     "output_type": "stream",
     "text": [
      "Testing Accuracy : 0.9241\n"
     ]
    }
   ],
   "source": [
    "_, test_acc_1 = model_1.evaluate(test_image_1, test_label, verbose=0)\n",
    "print('Testing Accuracy : %.4f'%test_acc_1)"
   ]
  },
  {
   "cell_type": "code",
   "execution_count": 9,
   "metadata": {},
   "outputs": [
    {
     "name": "stdout",
     "output_type": "stream",
     "text": [
      "(60000, 28, 28, 1)\n",
      "(10000, 28, 28, 1)\n"
     ]
    }
   ],
   "source": [
    "# reshaping the training data to 3 dimensions\n",
    "train_image_2 = train_image.reshape((60000, 28, 28, 1))\n",
    "test_image_2 = test_image.reshape((10000, 28, 28, 1))\n",
    "print(train_image_2.shape)\n",
    "print(test_image_2.shape)"
   ]
  },
  {
   "cell_type": "code",
   "execution_count": 10,
   "metadata": {},
   "outputs": [],
   "source": [
    "#The 6 lines of code below define the convolutional base using a common pattern: a stack of Conv2D and MaxPooling2D layers.\n",
    "model_2 = models.Sequential()\n",
    "model_2.add(layers.Conv2D(32, (3, 3), strides=(1,1), padding='valid', activation='relu', input_shape=(28, 28, 1)))\n",
    "model_2.add(layers.MaxPooling2D((2, 2)))\n",
    "model_2.add(layers.Conv2D(64, (3, 3), strides=(1,1), padding='valid', activation='relu'))\n",
    "model_2.add(layers.MaxPooling2D((2, 2)))\n",
    "model_2.add(layers.Conv2D(64, (3, 3), strides=(1,1), padding='valid', activation='relu'))"
   ]
  },
  {
   "cell_type": "code",
   "execution_count": 11,
   "metadata": {},
   "outputs": [
    {
     "name": "stdout",
     "output_type": "stream",
     "text": [
      "Model: \"sequential_1\"\n",
      "_________________________________________________________________\n",
      "Layer (type)                 Output Shape              Param #   \n",
      "=================================================================\n",
      "conv2d (Conv2D)              (None, 26, 26, 32)        320       \n",
      "_________________________________________________________________\n",
      "max_pooling2d (MaxPooling2D) (None, 13, 13, 32)        0         \n",
      "_________________________________________________________________\n",
      "conv2d_1 (Conv2D)            (None, 11, 11, 64)        18496     \n",
      "_________________________________________________________________\n",
      "max_pooling2d_1 (MaxPooling2 (None, 5, 5, 64)          0         \n",
      "_________________________________________________________________\n",
      "conv2d_2 (Conv2D)            (None, 3, 3, 64)          36928     \n",
      "=================================================================\n",
      "Total params: 55,744\n",
      "Trainable params: 55,744\n",
      "Non-trainable params: 0\n",
      "_________________________________________________________________\n"
     ]
    }
   ],
   "source": [
    "model_2.summary()"
   ]
  },
  {
   "cell_type": "code",
   "execution_count": 12,
   "metadata": {},
   "outputs": [],
   "source": [
    "model_2.add(layers.Flatten())\n",
    "model_2.add(layers.Dense(64, activation='relu'))\n",
    "model_2.add(layers.Dropout(0.5))\n",
    "model_2.add(layers.Dense(10, activation='softmax'))"
   ]
  },
  {
   "cell_type": "code",
   "execution_count": 13,
   "metadata": {},
   "outputs": [
    {
     "name": "stdout",
     "output_type": "stream",
     "text": [
      "Model: \"sequential_1\"\n",
      "_________________________________________________________________\n",
      "Layer (type)                 Output Shape              Param #   \n",
      "=================================================================\n",
      "conv2d (Conv2D)              (None, 26, 26, 32)        320       \n",
      "_________________________________________________________________\n",
      "max_pooling2d (MaxPooling2D) (None, 13, 13, 32)        0         \n",
      "_________________________________________________________________\n",
      "conv2d_1 (Conv2D)            (None, 11, 11, 64)        18496     \n",
      "_________________________________________________________________\n",
      "max_pooling2d_1 (MaxPooling2 (None, 5, 5, 64)          0         \n",
      "_________________________________________________________________\n",
      "conv2d_2 (Conv2D)            (None, 3, 3, 64)          36928     \n",
      "_________________________________________________________________\n",
      "flatten (Flatten)            (None, 576)               0         \n",
      "_________________________________________________________________\n",
      "dense_1 (Dense)              (None, 64)                36928     \n",
      "_________________________________________________________________\n",
      "dropout (Dropout)            (None, 64)                0         \n",
      "_________________________________________________________________\n",
      "dense_2 (Dense)              (None, 10)                650       \n",
      "=================================================================\n",
      "Total params: 93,322\n",
      "Trainable params: 93,322\n",
      "Non-trainable params: 0\n",
      "_________________________________________________________________\n"
     ]
    }
   ],
   "source": [
    "model_2.summary()"
   ]
  },
  {
   "cell_type": "code",
   "execution_count": 14,
   "metadata": {},
   "outputs": [
    {
     "name": "stdout",
     "output_type": "stream",
     "text": [
      "Epoch 1/5\n",
      "1875/1875 [==============================] - 13s 5ms/step - loss: 0.5255 - accuracy: 0.8293\n",
      "Epoch 2/5\n",
      "1875/1875 [==============================] - 10s 5ms/step - loss: 0.0913 - accuracy: 0.9750\n",
      "Epoch 3/5\n",
      "1875/1875 [==============================] - 10s 5ms/step - loss: 0.0595 - accuracy: 0.9826\n",
      "Epoch 4/5\n",
      "1875/1875 [==============================] - 10s 5ms/step - loss: 0.0455 - accuracy: 0.9871\n",
      "Epoch 5/5\n",
      "1875/1875 [==============================] - 10s 5ms/step - loss: 0.0396 - accuracy: 0.9882\n"
     ]
    },
    {
     "data": {
      "text/plain": [
       "<tensorflow.python.keras.callbacks.History at 0x14ab37f10cd0>"
      ]
     },
     "execution_count": 14,
     "metadata": {},
     "output_type": "execute_result"
    }
   ],
   "source": [
    "model_2.compile(optimizer='adam',\n",
    "              loss='sparse_categorical_crossentropy',\n",
    "              metrics=['accuracy'])\n",
    "\n",
    "model_2.fit(train_image_2, train_label, epochs=5)"
   ]
  },
  {
   "cell_type": "code",
   "execution_count": 15,
   "metadata": {},
   "outputs": [
    {
     "name": "stdout",
     "output_type": "stream",
     "text": [
      "Testing Accuracy : 0.9916\n"
     ]
    }
   ],
   "source": [
    "_, test_acc_2 = model_2.evaluate(test_image_2, test_label, verbose=0)\n",
    "print('Testing Accuracy : %.4f'%test_acc_2)"
   ]
  },
  {
   "cell_type": "code",
   "execution_count": 16,
   "metadata": {},
   "outputs": [
    {
     "name": "stdout",
     "output_type": "stream",
     "text": [
      "Downloading data from https://www.cs.toronto.edu/~kriz/cifar-10-python.tar.gz\n",
      "170500096/170498071 [==============================] - 14s 0us/step\n",
      "X_train shape: (50000, 32, 32, 3)\n",
      "Y_train shape: (50000, 10)\n",
      "X_test shape: (10000, 32, 32, 3)\n",
      "Y_test shape: (10000, 10)\n"
     ]
    }
   ],
   "source": [
    "# Loading Data\n",
    "\n",
    "(X_train, y_train), (X_test, y_test) = datasets.cifar10.load_data()\n",
    "\n",
    "# normalize inputs from 0-255 to 0.0-1.0\n",
    "X_train = X_train.astype('float32')\n",
    "X_test = X_test.astype('float32')\n",
    "X_train = X_train / 255.0\n",
    "X_test = X_test / 255.0\n",
    "\n",
    "# convert class vectors to binary vectors\n",
    "Y_train = utils.to_categorical(y_train)\n",
    "Y_test = utils.to_categorical(y_test)\n",
    "\n",
    "print('X_train shape:', X_train.shape)\n",
    "print('Y_train shape:', Y_train.shape)\n",
    "print('X_test shape:', X_test.shape)\n",
    "print('Y_test shape:', Y_test.shape)"
   ]
  },
  {
   "cell_type": "code",
   "execution_count": 17,
   "metadata": {},
   "outputs": [
    {
     "data": {
      "image/png": "[encoded data removed]",
      "text/plain": [
       "<Figure size 400x200 with 2 Axes>"
      ]
     },
     "metadata": {},
     "output_type": "display_data"
    }
   ],
   "source": [
    "# transform a 3-channel image into one channel\n",
    "def grayscale(data, dtype='float32'):\n",
    "    # luma coding weighted average in video systems\n",
    "    r = np.asarray(.3, dtype=dtype)\n",
    "    g = np.asarray(.59, dtype=dtype)\n",
    "    b = np.asarray(.11, dtype=dtype)\n",
    "    rst = r * data[:, :, :, 0] + g * data[:, :, :, 1] + b * data[:, :, :, 2]\n",
    "    # add channel dimension\n",
    "    rst = np.expand_dims(rst, axis=3)\n",
    "    return rst\n",
    "\n",
    "X_train_gray = grayscale(X_train)\n",
    "X_test_gray = grayscale(X_test)\n",
    "\n",
    "# plot a randomly chosen image\n",
    "img = round(np.random.rand() * X_train.shape[0])\n",
    "plt.figure(figsize=(4, 2))\n",
    "plt.subplot(1, 2, 1)\n",
    "plt.imshow(X_train[img], interpolation='none')\n",
    "plt.subplot(1, 2, 2)\n",
    "plt.imshow(\n",
    "    X_train_gray[img, :, :, 0], cmap=plt.get_cmap('gray'), interpolation='none')\n",
    "plt.show()"
   ]
  },
  {
   "cell_type": "code",
   "execution_count": 18,
   "metadata": {},
   "outputs": [],
   "source": [
    "def getHOGfeat(image,\n",
    "               stride=8,\n",
    "               orientations=8,\n",
    "               pixels_per_cell=(8, 8),\n",
    "               cells_per_block=(2, 2)):\n",
    "    cx, cy = pixels_per_cell\n",
    "    bx, by = cells_per_block\n",
    "    sx, sy, sz = image.shape\n",
    "    n_cellsx = int(np.floor(sx // cx))  # number of cells in x\n",
    "    n_cellsy = int(np.floor(sy // cy))  # number of cells in y\n",
    "    n_blocksx = (n_cellsx - bx) + 1\n",
    "    n_blocksy = (n_cellsy - by) + 1\n",
    "    gx = np.zeros((sx, sy), dtype=np.double)\n",
    "    gy = np.zeros((sx, sy), dtype=np.double)\n",
    "    eps = 1e-5\n",
    "    grad = np.zeros((sx, sy, 2), dtype=np.double)\n",
    "    for i in range(1, sx - 1):\n",
    "        for j in range(1, sy - 1):\n",
    "            gx[i, j] = image[i, j - 1] - image[i, j + 1]\n",
    "            gy[i, j] = image[i + 1, j] - image[i - 1, j]\n",
    "            grad[i, j, 0] = np.arctan(gy[i, j] / (gx[i, j] + eps)) * 180 / math.pi\n",
    "            if gx[i, j] < 0:\n",
    "                grad[i, j, 0] += 180\n",
    "            grad[i, j, 0] = (grad[i, j, 0] + 360) % 360\n",
    "            grad[i, j, 1] = np.sqrt(gy[i, j] ** 2 + gx[i, j] ** 2)\n",
    "    normalised_blocks = np.zeros((n_blocksy, n_blocksx, by * bx * orientations))\n",
    "    for y in range(n_blocksy):\n",
    "        for x in range(n_blocksx):\n",
    "            block = grad[y * stride:y * stride + 16, x * stride:x * stride + 16]\n",
    "            hist_block = np.zeros(32, dtype=np.double)\n",
    "            eps = 1e-5\n",
    "            for k in range(by):\n",
    "                for m in range(bx):\n",
    "                    cell = block[k * 8:(k + 1) * 8, m * 8:(m + 1) * 8]\n",
    "                    hist_cell = np.zeros(8, dtype=np.double)\n",
    "                    for i in range(cy):\n",
    "                        for j in range(cx):\n",
    "                            n = int(cell[i, j, 0] / 45)\n",
    "                            hist_cell[n] += cell[i, j, 1]\n",
    "                    hist_block[(k * bx + m) * orientations:(k * bx + m + 1) * orientations] = hist_cell[:]\n",
    "            normalised_blocks[y, x, :] = hist_block / np.sqrt(\n",
    "                hist_block.sum() ** 2 + eps)\n",
    "    return normalised_blocks.ravel()"
   ]
  },
  {
   "cell_type": "code",
   "execution_count": 19,
   "metadata": {},
   "outputs": [
    {
     "name": "stdout",
     "output_type": "stream",
     "text": [
      "This will take some minutes.\n"
     ]
    },
    {
     "name": "stderr",
     "output_type": "stream",
     "text": [
      "100%|██████████| 50000/50000 [10:00<00:00, 83.32it/s]\n",
      "100%|██████████| 10000/10000 [02:00<00:00, 83.10it/s]\n"
     ]
    }
   ],
   "source": [
    "X_train_hog = []\n",
    "X_test_hog = []\n",
    "\n",
    "print('This will take some minutes.')\n",
    "\n",
    "for img in tqdm(X_train_gray):\n",
    "    img_hog = getHOGfeat(img)\n",
    "    X_train_hog.append(img_hog)\n",
    "\n",
    "for img in tqdm(X_test_gray):\n",
    "    img_hog = getHOGfeat(img)\n",
    "    X_test_hog.append(img_hog)\n",
    "    \n",
    "X_train_hog_array = np.asarray(X_train_hog)\n",
    "X_test_hog_array = np.asarray(X_test_hog)"
   ]
  },
  {
   "cell_type": "code",
   "execution_count": 20,
   "metadata": {},
   "outputs": [
    {
     "name": "stdout",
     "output_type": "stream",
     "text": [
      "[KNN]\n",
      "Misclassified samples: 5334\n",
      "Accuracy: 0.47\n"
     ]
    }
   ],
   "source": [
    "# # KNN\n",
    "# from sklearn.neighbors import KNeighborsClassifier \n",
    "# from sklearn.metrics import accuracy_score\n",
    "\n",
    "# # p=2 and metric='minkowski' means the Euclidean Distance\n",
    "# knn = KNeighborsClassifier(n_neighbors=11, p=2, metric='minkowski')\n",
    "\n",
    "# knn.fit(X_train_hog_array, y_train.ravel())\n",
    "# y_pred = knn.predict(X_test_hog_array)\n",
    "# print('[KNN]')\n",
    "# print('Misclassified samples: %d' % (y_test.ravel() != y_pred).sum())\n",
    "# print('Accuracy: %.2f' % accuracy_score(y_test, y_pred))"
   ]
  },
  {
   "cell_type": "code",
   "execution_count": 21,
   "metadata": {},
   "outputs": [
    {
     "name": "stdout",
     "output_type": "stream",
     "text": [
      "This will take some minutes.\n",
      "[Linear SVC]\n",
      "Misclassified samples: 4940\n",
      "Accuracy: 0.51\n",
      "649.32 sec.\n"
     ]
    }
   ],
   "source": [
    "# # SVM\n",
    "# from sklearn.svm import SVC \n",
    "\n",
    "# print('This will take some minutes.')\n",
    "# start_time = time.time()\n",
    "\n",
    "# # C is the hyperparameter for the error penalty term\n",
    "# # gamma is the hyperparameter for the rbf kernel\n",
    "# svm_linear = SVC(kernel='linear', random_state=0, gamma=0.2, C=10.0)\n",
    "\n",
    "# svm_linear.fit(X_train_hog_array, y_train.ravel())\n",
    "# y_pred = svm_linear.predict(X_test_hog_array)\n",
    "# print('[Linear SVC]')\n",
    "# print('Misclassified samples: %d' % (y_test.ravel() != y_pred).sum())\n",
    "# print('Accuracy: %.2f' % accuracy_score(y_test.ravel(), y_pred))\n",
    "\n",
    "# print('{:.2f} sec.'.format(time.time()-start_time))"
   ]
  },
  {
   "cell_type": "code",
   "execution_count": 22,
   "metadata": {},
   "outputs": [
    {
     "name": "stdout",
     "output_type": "stream",
     "text": [
      "Model: \"sequential_2\"\n",
      "_________________________________________________________________\n",
      "Layer (type)                 Output Shape              Param #   \n",
      "=================================================================\n",
      "conv2d_3 (Conv2D)            (None, 32, 32, 64)        4864      \n",
      "_________________________________________________________________\n",
      "max_pooling2d_2 (MaxPooling2 (None, 16, 16, 64)        0         \n",
      "_________________________________________________________________\n",
      "batch_normalization (BatchNo (None, 16, 16, 64)        256       \n",
      "_________________________________________________________________\n",
      "conv2d_4 (Conv2D)            (None, 16, 16, 64)        102464    \n",
      "_________________________________________________________________\n",
      "max_pooling2d_3 (MaxPooling2 (None, 8, 8, 64)          0         \n",
      "_________________________________________________________________\n",
      "batch_normalization_1 (Batch (None, 8, 8, 64)          256       \n",
      "_________________________________________________________________\n",
      "flatten_1 (Flatten)          (None, 4096)              0         \n",
      "_________________________________________________________________\n",
      "dense_3 (Dense)              (None, 384)               1573248   \n",
      "_________________________________________________________________\n",
      "dropout_1 (Dropout)          (None, 384)               0         \n",
      "_________________________________________________________________\n",
      "dense_4 (Dense)              (None, 192)               73920     \n",
      "_________________________________________________________________\n",
      "dense_5 (Dense)              (None, 10)                1930      \n",
      "=================================================================\n",
      "Total params: 1,756,938\n",
      "Trainable params: 1,756,682\n",
      "Non-trainable params: 256\n",
      "_________________________________________________________________\n"
     ]
    }
   ],
   "source": [
    "model_3 = models.Sequential()\n",
    "\n",
    "#The 6 lines of code below define the convolutional base using a common pattern: a stack of Conv2D and MaxPooling2D layers.\n",
    "model_3.add(layers.Conv2D(64, (5, 5), padding='same', activation='relu', input_shape=(32, 32, 3)))\n",
    "model_3.add(layers.MaxPool2D(pool_size=3,strides=2,padding='same'))\n",
    "model_3.add(layers.BatchNormalization())\n",
    "model_3.add(layers.Conv2D(64, (5, 5), padding='same', activation='relu'))\n",
    "model_3.add(layers.MaxPool2D(pool_size=3,strides=2,padding='same'))\n",
    "model_3.add(layers.BatchNormalization())\n",
    "                \n",
    "model_3.add(layers.Flatten())\n",
    "model_3.add(layers.Dense(384, activation='relu'))\n",
    "model_3.add(layers.Dropout(0.5))\n",
    "model_3.add(layers.Dense(192, activation='relu'))\n",
    "model_3.add(layers.Dense(10, activation='softmax'))\n",
    "model_3.compile(optimizer='adam',\n",
    "              loss='sparse_categorical_crossentropy',\n",
    "              metrics=['accuracy'])\n",
    "\n",
    "model_3.summary()"
   ]
  },
  {
   "cell_type": "code",
   "execution_count": 23,
   "metadata": {},
   "outputs": [
    {
     "name": "stdout",
     "output_type": "stream",
     "text": [
      "Epoch 1/5\n",
      "1563/1563 [==============================] - 13s 8ms/step - loss: 1.9082 - accuracy: 0.3502 - val_loss: 1.2610 - val_accuracy: 0.5595\n",
      "Epoch 2/5\n",
      "1563/1563 [==============================] - 10s 6ms/step - loss: 1.1588 - accuracy: 0.5894 - val_loss: 1.0036 - val_accuracy: 0.6679\n",
      "Epoch 3/5\n",
      "1563/1563 [==============================] - 10s 6ms/step - loss: 0.9484 - accuracy: 0.6670 - val_loss: 1.0161 - val_accuracy: 0.6548\n",
      "Epoch 4/5\n",
      "1563/1563 [==============================] - 10s 6ms/step - loss: 0.8278 - accuracy: 0.7153 - val_loss: 0.9192 - val_accuracy: 0.6812\n",
      "Epoch 5/5\n",
      "1563/1563 [==============================] - 10s 6ms/step - loss: 0.7306 - accuracy: 0.7457 - val_loss: 0.7950 - val_accuracy: 0.7246\n",
      "Testing Accuracy : 0.7246\n"
     ]
    }
   ],
   "source": [
    "model_3.fit(X_train, y_train, epochs=5, validation_data=(X_test, y_test), verbose=1)\n",
    "_, test_acc_3 = model_3.evaluate(X_test, y_test, verbose=0)\n",
    "print('Testing Accuracy : %.4f'%test_acc_3)"
   ]
  },
  {
   "cell_type": "code",
   "execution_count": 24,
   "metadata": {},
   "outputs": [
    {
     "name": "stdout",
     "output_type": "stream",
     "text": [
      "(200, 5) (200,)\n"
     ]
    }
   ],
   "source": [
    "# number of samples\n",
    "n_samples = 200\n",
    "\n",
    "# an array with shape (n_samples, 5)\n",
    "raw_data_a = np.random.rand(n_samples, 5)\n",
    "# a list with length of n_samples from 0 to n_samples-1\n",
    "raw_data_b = np.arange(n_samples)\n",
    "print(raw_data_a.shape, raw_data_b.shape)"
   ]
  },
  {
   "cell_type": "code",
   "execution_count": 25,
   "metadata": {},
   "outputs": [],
   "source": [
    "# this tells the dataset that each row of raw_data_a is corresponding to each element of raw_data_b\n",
    "raw_dataset = tf.data.Dataset.from_tensor_slices((raw_data_a, raw_data_b))"
   ]
  },
  {
   "cell_type": "code",
   "execution_count": 26,
   "metadata": {},
   "outputs": [
    {
     "name": "stdout",
     "output_type": "stream",
     "text": [
      "Batch  0 , b are  (<tf.Tensor: shape=(5,), dtype=float64, numpy=array([0.43539956, 0.00506565, 0.98644897, 0.78440606, 0.29490015])>, <tf.Tensor: shape=(), dtype=int64, numpy=0>)\n",
      "Batch  1 , b are  (<tf.Tensor: shape=(5,), dtype=float64, numpy=array([0.48580055, 0.794433  , 0.16131837, 0.20065087, 0.34292575])>, <tf.Tensor: shape=(), dtype=int64, numpy=1>)\n",
      "Batch  2 , b are  (<tf.Tensor: shape=(5,), dtype=float64, numpy=array([0.18233817, 0.92311146, 0.40593751, 0.31472856, 0.29257028])>, <tf.Tensor: shape=(), dtype=int64, numpy=2>)\n",
      "Batch  3 , b are  (<tf.Tensor: shape=(5,), dtype=float64, numpy=array([0.13467984, 0.87299602, 0.65002907, 0.59365984, 0.49341016])>, <tf.Tensor: shape=(), dtype=int64, numpy=3>)\n",
      "Batch  4 , b are  (<tf.Tensor: shape=(5,), dtype=float64, numpy=array([0.85498532, 0.07293431, 0.93044152, 0.75865421, 0.18699617])>, <tf.Tensor: shape=(), dtype=int64, numpy=4>)\n",
      "Batch  5 , b are  (<tf.Tensor: shape=(5,), dtype=float64, numpy=array([0.14014767, 0.06128635, 0.31925296, 0.54753811, 0.36803201])>, <tf.Tensor: shape=(), dtype=int64, numpy=5>)\n",
      "Batch  6 , b are  (<tf.Tensor: shape=(5,), dtype=float64, numpy=array([0.31273436, 0.24834609, 0.8942605 , 0.14981866, 0.90572103])>, <tf.Tensor: shape=(), dtype=int64, numpy=6>)\n",
      "Batch  7 , b are  (<tf.Tensor: shape=(5,), dtype=float64, numpy=array([0.22828511, 0.99919365, 0.12225093, 0.03513537, 0.98320107])>, <tf.Tensor: shape=(), dtype=int64, numpy=7>)\n"
     ]
    }
   ],
   "source": [
    "# Here, we print the first 8 batches.\n",
    "for i,elem in enumerate(raw_dataset):\n",
    "    print(\"Batch \", i, \", b are \", elem)\n",
    "    if i==7:\n",
    "        break"
   ]
  },
  {
   "cell_type": "code",
   "execution_count": 27,
   "metadata": {},
   "outputs": [
    {
     "name": "stdout",
     "output_type": "stream",
     "text": [
      "Batch  0 , b are  (<tf.Tensor: shape=(5,), dtype=float64, numpy=array([0.43539956, 0.00506565, 0.98644897, 0.78440606, 0.29490015])>, <tf.Tensor: shape=(), dtype=int64, numpy=0>)\n",
      "Batch  1 , b are  (<tf.Tensor: shape=(5,), dtype=float64, numpy=array([0.48580055, 0.794433  , 0.16131837, 0.20065087, 0.34292575])>, <tf.Tensor: shape=(), dtype=int64, numpy=1>)\n",
      "Batch  2 , b are  (<tf.Tensor: shape=(5,), dtype=float64, numpy=array([0.18233817, 0.92311146, 0.40593751, 0.31472856, 0.29257028])>, <tf.Tensor: shape=(), dtype=int64, numpy=2>)\n",
      "Batch  3 , b are  (<tf.Tensor: shape=(5,), dtype=float64, numpy=array([0.13467984, 0.87299602, 0.65002907, 0.59365984, 0.49341016])>, <tf.Tensor: shape=(), dtype=int64, numpy=3>)\n",
      "Batch  4 , b are  (<tf.Tensor: shape=(5,), dtype=float64, numpy=array([0.85498532, 0.07293431, 0.93044152, 0.75865421, 0.18699617])>, <tf.Tensor: shape=(), dtype=int64, numpy=4>)\n",
      "Batch  5 , b are  (<tf.Tensor: shape=(5,), dtype=float64, numpy=array([0.14014767, 0.06128635, 0.31925296, 0.54753811, 0.36803201])>, <tf.Tensor: shape=(), dtype=int64, numpy=5>)\n",
      "Batch  6 , b are  (<tf.Tensor: shape=(5,), dtype=float64, numpy=array([0.31273436, 0.24834609, 0.8942605 , 0.14981866, 0.90572103])>, <tf.Tensor: shape=(), dtype=int64, numpy=6>)\n",
      "Batch  7 , b are  (<tf.Tensor: shape=(5,), dtype=float64, numpy=array([0.22828511, 0.99919365, 0.12225093, 0.03513537, 0.98320107])>, <tf.Tensor: shape=(), dtype=int64, numpy=7>)\n"
     ]
    }
   ],
   "source": [
    "# Here, we print the first 8 batches.\n",
    "it = iter(raw_dataset)\n",
    "for i in range(8):\n",
    "    print(\"Batch \", i, \", b are \", next(it))"
   ]
  },
  {
   "cell_type": "code",
   "execution_count": 28,
   "metadata": {},
   "outputs": [],
   "source": [
    "def preprocess_function(one_row_a, one_b):\n",
    "    \"\"\"\n",
    "        Input: one slice of the dataset\n",
    "        Output: modified slice\n",
    "    \"\"\"\n",
    "    # Do some data preprocessing, you can also input filenames and load data in here\n",
    "    # Here, we transform each row of raw_data_a to its sum and mean\n",
    "    one_row_a = [tf.reduce_sum(one_row_a), tf.reduce_mean(one_row_a)]\n",
    "\n",
    "    return one_row_a, one_b\n",
    "\n",
    "raw_dataset = raw_dataset.map(preprocess_function, num_parallel_calls=tf.data.experimental.AUTOTUNE)"
   ]
  },
  {
   "cell_type": "code",
   "execution_count": 29,
   "metadata": {},
   "outputs": [
    {
     "name": "stdout",
     "output_type": "stream",
     "text": [
      "Batch  0 , b are  (<tf.Tensor: shape=(2,), dtype=float64, numpy=array([2.50622039, 0.50124408])>, <tf.Tensor: shape=(), dtype=int64, numpy=0>)\n",
      "Batch  1 , b are  (<tf.Tensor: shape=(2,), dtype=float64, numpy=array([1.98512853, 0.39702571])>, <tf.Tensor: shape=(), dtype=int64, numpy=1>)\n",
      "Batch  2 , b are  (<tf.Tensor: shape=(2,), dtype=float64, numpy=array([2.11868597, 0.42373719])>, <tf.Tensor: shape=(), dtype=int64, numpy=2>)\n",
      "Batch  3 , b are  (<tf.Tensor: shape=(2,), dtype=float64, numpy=array([2.74477493, 0.54895499])>, <tf.Tensor: shape=(), dtype=int64, numpy=3>)\n",
      "Batch  4 , b are  (<tf.Tensor: shape=(2,), dtype=float64, numpy=array([2.80401154, 0.56080231])>, <tf.Tensor: shape=(), dtype=int64, numpy=4>)\n",
      "Batch  5 , b are  (<tf.Tensor: shape=(2,), dtype=float64, numpy=array([1.43625711, 0.28725142])>, <tf.Tensor: shape=(), dtype=int64, numpy=5>)\n",
      "Batch  6 , b are  (<tf.Tensor: shape=(2,), dtype=float64, numpy=array([2.51088065, 0.50217613])>, <tf.Tensor: shape=(), dtype=int64, numpy=6>)\n",
      "Batch  7 , b are  (<tf.Tensor: shape=(2,), dtype=float64, numpy=array([2.36806613, 0.47361323])>, <tf.Tensor: shape=(), dtype=int64, numpy=7>)\n"
     ]
    }
   ],
   "source": [
    "it = iter(raw_dataset)\n",
    "for i in range(8):\n",
    "    print(\"Batch \", i, \", b are \", next(it))"
   ]
  },
  {
   "cell_type": "code",
   "execution_count": 30,
   "metadata": {},
   "outputs": [],
   "source": [
    "dataset = raw_dataset.shuffle(16)"
   ]
  },
  {
   "cell_type": "code",
   "execution_count": 31,
   "metadata": {},
   "outputs": [
    {
     "name": "stdout",
     "output_type": "stream",
     "text": [
      "Batch  0 , b are  (<tf.Tensor: shape=(2,), dtype=float64, numpy=array([1.06353583, 0.21270717])>, <tf.Tensor: shape=(), dtype=int64, numpy=12>)\n",
      "Batch  1 , b are  (<tf.Tensor: shape=(2,), dtype=float64, numpy=array([1.98512853, 0.39702571])>, <tf.Tensor: shape=(), dtype=int64, numpy=1>)\n",
      "Batch  2 , b are  (<tf.Tensor: shape=(2,), dtype=float64, numpy=array([1.59853471, 0.31970694])>, <tf.Tensor: shape=(), dtype=int64, numpy=9>)\n",
      "Batch  3 , b are  (<tf.Tensor: shape=(2,), dtype=float64, numpy=array([2.61269587, 0.52253917])>, <tf.Tensor: shape=(), dtype=int64, numpy=13>)\n",
      "Batch  4 , b are  (<tf.Tensor: shape=(2,), dtype=float64, numpy=array([3.20837076, 0.64167415])>, <tf.Tensor: shape=(), dtype=int64, numpy=8>)\n",
      "Batch  5 , b are  (<tf.Tensor: shape=(2,), dtype=float64, numpy=array([2.11868597, 0.42373719])>, <tf.Tensor: shape=(), dtype=int64, numpy=2>)\n",
      "Batch  6 , b are  (<tf.Tensor: shape=(2,), dtype=float64, numpy=array([2.74477493, 0.54895499])>, <tf.Tensor: shape=(), dtype=int64, numpy=3>)\n",
      "Batch  7 , b are  (<tf.Tensor: shape=(2,), dtype=float64, numpy=array([2.23477093, 0.44695419])>, <tf.Tensor: shape=(), dtype=int64, numpy=18>)\n",
      "\n",
      "The order of the first 8 shuffle from [0, 1, 2, 3, 4, 5, 6, 7] to  [12, 1, 9, 13, 8, 2, 3, 18]\n"
     ]
    }
   ],
   "source": [
    "idxs = []\n",
    "for i,elem in enumerate(dataset):\n",
    "    print(\"Batch \", i, \", b are \", elem)\n",
    "    idxs.append(elem[1].numpy())\n",
    "    if i==7:\n",
    "        break\n",
    "        \n",
    "print(\"\\nThe order of the first 8 shuffle from [0, 1, 2, 3, 4, 5, 6, 7] to \",idxs)"
   ]
  },
  {
   "cell_type": "code",
   "execution_count": null,
   "metadata": {},
   "outputs": [],
   "source": []
  }
 ],
 "metadata": {
  "kernelspec": {
   "display_name": "for_tf",
   "language": "python",
   "name": "python3"
  },
  "language_info": {
   "codemirror_mode": {
    "name": "ipython",
    "version": 3
   },
   "file_extension": ".py",
   "mimetype": "text/x-python",
   "name": "python",
   "nbconvert_exporter": "python",
   "pygments_lexer": "ipython3",
   "version": "3.8.18"
  }
 },
 "nbformat": 4,
 "nbformat_minor": 2
}
