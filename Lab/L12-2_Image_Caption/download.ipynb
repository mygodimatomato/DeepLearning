{
 "cells": [
  {
   "cell_type": "code",
   "execution_count": 1,
   "metadata": {},
   "outputs": [
    {
     "name": "stderr",
     "output_type": "stream",
     "text": [
      "Downloading...\n",
      "From (uriginal): https://drive.google.com/uc?id=1mHfyM6idetIO0SO-7Aph1opWbveSeDD-\n",
      "From (redirected): https://drive.google.com/uc?id=1mHfyM6idetIO0SO-7Aph1opWbveSeDD-&confirm=t&uuid=b4805ced-5dc3-4527-8875-dbeaf8dfbe11\n",
      "To: /home/mygodimatomato/DeepLearning/Lab/L12-2_Image_Caption/words_captcha.zip\n",
      "100%|██████████| 4.63G/4.63G [00:55<00:00, 83.4MB/s]\n"
     ]
    },
    {
     "data": {
      "text/plain": [
       "'words_captcha.zip'"
      ]
     },
     "execution_count": 1,
     "metadata": {},
     "output_type": "execute_result"
    }
   ],
   "source": [
    "# use gdown download data from google drive\n",
    "# https://drive.google.com/file/d/1gZYF7efCZc10sbyuJ0NNXKimM8GLIfVv/view?usp=sharing\n",
    "# https://drive.google.com/file/d/1DmveWBIuRwhokg4b3Dp8lid1vk-3B6-G/view?usp=sharing\n",
    "# https://drive.google.com/file/d/1gNyF81zkPTxDz5N5TNVfZqIhQs6M8M2j/view?usp=sharing\n",
    "# https://drive.google.com/file/d/1mHfyM6idetIO0SO-7Aph1opWbveSeDD-/view?usp=sharing\n",
    "\n",
    "import gdown\n",
    "import os\n",
    "\n",
    "gdown.download('https://drive.google.com/uc?id=1mHfyM6idetIO0SO-7Aph1opWbveSeDD-', quiet=False)"
   ]
  }
 ],
 "metadata": {
  "kernelspec": {
   "display_name": "for_tf",
   "language": "python",
   "name": "python3"
  },
  "language_info": {
   "codemirror_mode": {
    "name": "ipython",
    "version": 3
   },
   "file_extension": ".py",
   "mimetype": "text/x-python",
   "name": "python",
   "nbconvert_exporter": "python",
   "pygments_lexer": "ipython3",
   "version": "3.8.18"
  }
 },
 "nbformat": 4,
 "nbformat_minor": 2
}
